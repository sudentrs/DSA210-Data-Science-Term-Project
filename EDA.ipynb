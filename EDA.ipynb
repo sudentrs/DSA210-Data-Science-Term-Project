{
 "cells": [
  {
   "cell_type": "code",
   "execution_count": 1,
   "metadata": {},
   "outputs": [],
   "source": [
    "import pandas as pd\n",
    "import numpy as np\n",
    "import matplotlib.pyplot as plt\n",
    "import seaborn as sns\n",
    "import pandas as pd"
   ]
  },
  {
   "cell_type": "code",
   "execution_count": 2,
   "metadata": {},
   "outputs": [],
   "source": [
    "df = pd.read_excel('C:/Users/sudet/Downloads/210/final_dataset.xlsx')"
   ]
  },
  {
   "cell_type": "code",
   "execution_count": 3,
   "metadata": {},
   "outputs": [
    {
     "name": "stdout",
     "output_type": "stream",
     "text": [
      "           Date   Amount   Balance\n",
      "0    01.01.2023 -5243.49   2000.00\n",
      "1    01.01.2024   -22.03   9411.90\n",
      "2    01.02.2023 -3010.51   5502.03\n",
      "3    01.02.2024   -22.03   3317.58\n",
      "4    01.03.2023 -7571.49   5610.63\n",
      "..          ...      ...       ...\n",
      "385  31.05.2023  -337.49   2687.32\n",
      "386  31.05.2024   -40.00  15441.16\n",
      "387  31.07.2024   -50.00  23797.36\n",
      "388  31.10.2022  -156.56   5011.74\n",
      "389  31.10.2023  -184.00   8689.71\n",
      "\n",
      "[390 rows x 3 columns]\n"
     ]
    },
    {
     "name": "stderr",
     "output_type": "stream",
     "text": [
      "C:\\Users\\sudet\\AppData\\Local\\Temp\\ipykernel_19320\\2866810155.py:2: UserWarning: Parsing dates in %d.%m.%Y %H:%M format when dayfirst=False (the default) was specified. Pass `dayfirst=True` or specify a format to silence this warning.\n",
      "  df['DateTime'] = pd.to_datetime(df['Date'].astype(str) + ' ' + df['Time'])\n"
     ]
    }
   ],
   "source": [
    "# Convert the Date and Time columns to datetime format\n",
    "df['DateTime'] = pd.to_datetime(df['Date'].astype(str) + ' ' + df['Time'])\n",
    "\n",
    "# Group by Date and aggregate the Amount and Balance\n",
    "daily_spending = df.sort_values(by='DateTime').groupby('Date').agg({\n",
    "    'Amount': 'sum',\n",
    "    'Balance': 'last'\n",
    "}).reset_index()\n",
    "\n",
    "# Display the daily spending\n",
    "print(daily_spending)"
   ]
  }
 ],
 "metadata": {
  "kernelspec": {
   "display_name": "base",
   "language": "python",
   "name": "python3"
  },
  "language_info": {
   "codemirror_mode": {
    "name": "ipython",
    "version": 3
   },
   "file_extension": ".py",
   "mimetype": "text/x-python",
   "name": "python",
   "nbconvert_exporter": "python",
   "pygments_lexer": "ipython3",
   "version": "3.11.5"
  }
 },
 "nbformat": 4,
 "nbformat_minor": 2
}
