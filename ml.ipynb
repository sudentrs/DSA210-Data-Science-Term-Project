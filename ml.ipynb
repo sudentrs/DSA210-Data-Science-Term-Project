{
 "cells": [
  {
   "cell_type": "code",
   "execution_count": 62,
   "metadata": {},
   "outputs": [],
   "source": [
    "import pandas as pd\n",
    "from sklearn.model_selection import train_test_split\n",
    "from sklearn.ensemble import RandomForestClassifier\n",
    "from sklearn.preprocessing import LabelEncoder, StandardScaler\n",
    "from sklearn.metrics import classification_report\n",
    "\n",
    "df = pd.read_excel('C:/Users/sudet/Downloads/210/final_dataset.xlsx')\n",
    "df.dropna(inplace=True)"
   ]
  },
  {
   "cell_type": "code",
   "execution_count": 63,
   "metadata": {},
   "outputs": [
    {
     "name": "stdout",
     "output_type": "stream",
     "text": [
      "        Date  Time   Amount   Balance   Category  Emotional State\n",
      "0 2024-10-25    23   257.99  17224.27  thrifting  strong positive\n",
      "1 2024-10-25    19  1939.95  17482.26   clothing  strong positive\n",
      "2 2024-10-25    15    70.00  19422.21       food  strong positive\n",
      "3 2024-10-25    12    32.00  19492.21     market  strong positive\n",
      "4 2024-10-25    12    20.00  19524.21      other  strong positive\n"
     ]
    },
    {
     "name": "stderr",
     "output_type": "stream",
     "text": [
      "C:\\Users\\sudet\\AppData\\Local\\Temp\\ipykernel_12956\\3457015414.py:7: UserWarning: Parsing dates in %d.%m.%Y format when dayfirst=False (the default) was specified. Pass `dayfirst=True` or specify a format to silence this warning.\n",
      "  df['Date'] = pd.to_datetime(df['Date'])\n"
     ]
    }
   ],
   "source": [
    "# Drop the Description column\n",
    "df.drop(columns=['Description'], inplace=True)\n",
    "\n",
    "# Take the absolute value of the Amount column\n",
    "df['Amount'] = df['Amount'].abs()\n",
    "\n",
    "df['Date'] = pd.to_datetime(df['Date'])\n",
    "df['Time'] = pd.to_datetime(df['Time'], format='%H:%M').dt.hour  # Extract hour\n",
    "\n",
    "print(df.head())"
   ]
  },
  {
   "cell_type": "code",
   "execution_count": 64,
   "metadata": {},
   "outputs": [
    {
     "name": "stdout",
     "output_type": "stream",
     "text": [
      "['positive' 'neutral' 'negative']\n"
     ]
    }
   ],
   "source": [
    "df['Emotional State'] = df['Emotional State'].replace({'strong positive': 'positive', 'mildly positive': 'positive', 'strong negative': 'negative', 'mildly negative': 'negative'})\n",
    "print(df['Emotional State'].unique())"
   ]
  },
  {
   "cell_type": "code",
   "execution_count": 65,
   "metadata": {},
   "outputs": [
    {
     "name": "stdout",
     "output_type": "stream",
     "text": [
      "[2 1 0]\n"
     ]
    }
   ],
   "source": [
    "# Encode the Emotional State column\n",
    "df['Emotional State'] = le.fit_transform(df['Emotional State'])\n",
    "print(df['Emotional State'].unique())"
   ]
  },
  {
   "cell_type": "code",
   "execution_count": 66,
   "metadata": {},
   "outputs": [
    {
     "name": "stdout",
     "output_type": "stream",
     "text": [
      "Category\n",
      "food                   194\n",
      "other                  162\n",
      "market                  59\n",
      "transportation          56\n",
      "investment              43\n",
      "subscription            40\n",
      "clothing                33\n",
      "social                  30\n",
      "thrifting               13\n",
      "skincare                13\n",
      "credit card payment     12\n",
      "make-up                 11\n",
      "education               10\n",
      "travel cost              3\n",
      "Name: count, dtype: int64\n"
     ]
    }
   ],
   "source": [
    "category_counts = df['Category'].value_counts()\n",
    "print(category_counts)"
   ]
  },
  {
   "cell_type": "code",
   "execution_count": 67,
   "metadata": {},
   "outputs": [
    {
     "name": "stderr",
     "output_type": "stream",
     "text": [
      "c:\\Users\\sudet\\anaconda3\\Lib\\site-packages\\sklearn\\metrics\\_classification.py:1469: UndefinedMetricWarning: Precision and F-score are ill-defined and being set to 0.0 in labels with no predicted samples. Use `zero_division` parameter to control this behavior.\n",
      "  _warn_prf(average, modifier, msg_start, len(result))\n",
      "c:\\Users\\sudet\\anaconda3\\Lib\\site-packages\\sklearn\\metrics\\_classification.py:1469: UndefinedMetricWarning: Precision and F-score are ill-defined and being set to 0.0 in labels with no predicted samples. Use `zero_division` parameter to control this behavior.\n",
      "  _warn_prf(average, modifier, msg_start, len(result))\n",
      "c:\\Users\\sudet\\anaconda3\\Lib\\site-packages\\sklearn\\metrics\\_classification.py:1469: UndefinedMetricWarning: Precision and F-score are ill-defined and being set to 0.0 in labels with no predicted samples. Use `zero_division` parameter to control this behavior.\n",
      "  _warn_prf(average, modifier, msg_start, len(result))\n"
     ]
    },
    {
     "name": "stdout",
     "output_type": "stream",
     "text": [
      "Classification Report:\n",
      "                 precision    recall  f1-score   support\n",
      "\n",
      "      clothing       0.45      0.71      0.56         7\n",
      "          food       0.59      0.88      0.71        34\n",
      "    investment       0.67      0.80      0.73         5\n",
      "        market       0.67      0.33      0.44        12\n",
      "        social       0.00      0.00      0.00        11\n",
      "  subscription       1.00      1.00      1.00        12\n",
      "transportation       0.60      0.30      0.40        10\n",
      "\n",
      "      accuracy                           0.64        91\n",
      "     macro avg       0.57      0.58      0.55        91\n",
      "  weighted avg       0.58      0.64      0.58        91\n",
      "\n",
      "Cross-validation scores: [0.62637363 0.64835165 0.53846154 0.52747253 0.57142857]\n",
      "Mean accuracy: 0.5824175824175823\n"
     ]
    }
   ],
   "source": [
    "import pandas as pd\n",
    "from sklearn.ensemble import RandomForestClassifier\n",
    "from sklearn.model_selection import cross_val_score, train_test_split\n",
    "from sklearn.preprocessing import LabelEncoder, StandardScaler\n",
    "from sklearn.metrics import classification_report\n",
    "\n",
    "# Load your dataset\n",
    "df = df[~df['Category'].isin(['education', 'travel cost', 'credit card payment', 'thrifting', 'make-up', 'skincare', 'other'])]\n",
    "\n",
    "# Preprocess data\n",
    "le = LabelEncoder()\n",
    "df['Category'] = le.fit_transform(df['Category'])  # Encode Category for prediction\n",
    "category_mapping = dict(zip(le.classes_, le.transform(le.classes_)))  # To decode predictions later\n",
    "\n",
    "df['Amount'] = df['Amount'].abs()  # Absolute value for Amount\n",
    "df['Date'] = pd.to_datetime(df['Date'])  # Ensure Date is datetime\n",
    "df['Time'] = df['Time'].astype(int)  # Ensure Time is an integer representing the hour\n",
    "df['Emotional State'] = df['Emotional State'].replace(\n",
    "    {'strong positive': 'positive', 'mildly positive': 'positive',\n",
    "     'strong negative': 'negative', 'mildly negative': 'negative'}\n",
    ")\n",
    "df['Emotional State'] = le.fit_transform(df['Emotional State'])  # Encode Emotional State\n",
    "\n",
    "# Separate features and target\n",
    "X = df[['Time', 'Amount', 'Balance', 'Emotional State']]\n",
    "y = df['Category']\n",
    "\n",
    "# Scale the features\n",
    "scaler = StandardScaler()\n",
    "X = scaler.fit_transform(X)\n",
    "\n",
    "# Split into training and testing sets\n",
    "X_train, X_test, y_train, y_test = train_test_split(X, y, test_size=0.2, random_state=42)\n",
    "\n",
    "# Initialize RandomForestClassifier\n",
    "clf = RandomForestClassifier(n_estimators=100, random_state=42)\n",
    "\n",
    "# Train the model\n",
    "clf.fit(X_train, y_train)\n",
    "\n",
    "# Evaluate on test set\n",
    "y_pred = clf.predict(X_test)\n",
    "print(\"Classification Report:\\n\", classification_report(y_test, y_pred, target_names=[str(key) for key in category_mapping.keys()]))\n",
    "\n",
    "# Perform cross-validation\n",
    "cv_scores = cross_val_score(clf, X, y, cv=5, scoring='accuracy')\n",
    "print(\"Cross-validation scores:\", cv_scores)\n",
    "print(\"Mean accuracy:\", cv_scores.mean())\n"
   ]
  },
  {
   "cell_type": "code",
   "execution_count": null,
   "metadata": {},
   "outputs": [],
   "source": [
    "# Encode the Category column\n",
    "df['Category'] = le.fit_transform(df['Category'])"
   ]
  },
  {
   "cell_type": "code",
   "execution_count": 68,
   "metadata": {},
   "outputs": [
    {
     "name": "stderr",
     "output_type": "stream",
     "text": [
      "C:\\Users\\sudet\\AppData\\Local\\Temp\\ipykernel_12956\\1909066353.py:24: UserWarning: Parsing dates in %d.%m.%Y format when dayfirst=False (the default) was specified. Pass `dayfirst=True` or specify a format to silence this warning.\n",
      "  df['Date'] = pd.to_datetime(df['Date'])\n"
     ]
    },
    {
     "name": "stdout",
     "output_type": "stream",
     "text": [
      "Accuracy: 0.49264705882352944\n",
      "\n",
      "Classification Report:\n",
      "               precision    recall  f1-score   support\n",
      "\n",
      "           0       0.49      0.53      0.51        49\n",
      "           1       0.40      0.19      0.26        32\n",
      "           2       0.51      0.64      0.57        55\n",
      "\n",
      "    accuracy                           0.49       136\n",
      "   macro avg       0.47      0.45      0.44       136\n",
      "weighted avg       0.48      0.49      0.47       136\n",
      "\n",
      "\n",
      "Feature Importance:\n",
      "     Feature  Importance\n",
      "2   Balance    0.399793\n",
      "1    Amount    0.280537\n",
      "0      Time    0.194014\n",
      "3  Category    0.125657\n"
     ]
    }
   ],
   "source": [
    "import pandas as pd\n",
    "from sklearn.model_selection import train_test_split\n",
    "from sklearn.ensemble import RandomForestClassifier\n",
    "from sklearn.preprocessing import LabelEncoder, StandardScaler\n",
    "from sklearn.metrics import classification_report, accuracy_score\n",
    "\n",
    "# Load the dataset\n",
    "df = pd.read_excel('C:/Users/sudet/Downloads/210/final_dataset.xlsx')\n",
    "\n",
    "# Drop rows with missing values\n",
    "df.dropna(inplace=True)\n",
    "\n",
    "# Drop the Description column\n",
    "df.drop(columns=['Description'], inplace=True)\n",
    "\n",
    "# Encode the Category column\n",
    "le = LabelEncoder()\n",
    "df['Category'] = le.fit_transform(df['Category'])\n",
    "\n",
    "# Take the absolute value of the Amount column\n",
    "df['Amount'] = df['Amount'].abs()\n",
    "\n",
    "# Convert Date and Time\n",
    "df['Date'] = pd.to_datetime(df['Date'])\n",
    "df['Time'] = pd.to_datetime(df['Time'], format='%H:%M').dt.hour  # Extract hour\n",
    "\n",
    "# Simplify Emotional State categories\n",
    "df['Emotional State'] = df['Emotional State'].replace(\n",
    "    {'strong positive': 'positive', 'mildly positive': 'positive', \n",
    "     'strong negative': 'negative', 'mildly negative': 'negative'}\n",
    ")\n",
    "\n",
    "# Encode the Emotional State column\n",
    "df['Emotional State'] = le.fit_transform(df['Emotional State'])\n",
    "\n",
    "# Define features and target\n",
    "X = df.drop(columns=['Emotional State', 'Date'])  # Drop target and non-numeric features\n",
    "y = df['Emotional State']\n",
    "\n",
    "# Scale numerical features\n",
    "scaler = StandardScaler()\n",
    "X[['Amount', 'Balance', 'Time']] = scaler.fit_transform(X[['Amount', 'Balance', 'Time']])\n",
    "\n",
    "# Split data into training and testing sets\n",
    "X_train, X_test, y_train, y_test = train_test_split(X, y, test_size=0.2, random_state=42, stratify=y)\n",
    "\n",
    "# Initialize and train the Random Forest Classifier\n",
    "rf_model = RandomForestClassifier(random_state=42, n_estimators=100)\n",
    "rf_model.fit(X_train, y_train)\n",
    "\n",
    "# Make predictions\n",
    "y_pred = rf_model.predict(X_test)\n",
    "\n",
    "# Evaluate the model\n",
    "print(\"Accuracy:\", accuracy_score(y_test, y_pred))\n",
    "print(\"\\nClassification Report:\\n\", classification_report(y_test, y_pred))\n",
    "\n",
    "# Feature importance\n",
    "feature_importance = pd.DataFrame({\n",
    "    'Feature': X.columns,\n",
    "    'Importance': rf_model.feature_importances_\n",
    "}).sort_values(by='Importance', ascending=False)\n",
    "print(\"\\nFeature Importance:\\n\", feature_importance)\n"
   ]
  },
  {
   "cell_type": "code",
   "execution_count": 34,
   "metadata": {},
   "outputs": [
    {
     "name": "stderr",
     "output_type": "stream",
     "text": [
      "C:\\Users\\sudet\\AppData\\Local\\Temp\\ipykernel_12956\\1352923020.py:18: UserWarning: Parsing dates in %d.%m.%Y format when dayfirst=False (the default) was specified. Pass `dayfirst=True` or specify a format to silence this warning.\n",
      "  df['Date'] = pd.to_datetime(df['Date'])  # Ensure Date is datetime\n",
      "c:\\Users\\sudet\\anaconda3\\Lib\\site-packages\\sklearn\\metrics\\_classification.py:1469: UndefinedMetricWarning: Precision and F-score are ill-defined and being set to 0.0 in labels with no predicted samples. Use `zero_division` parameter to control this behavior.\n",
      "  _warn_prf(average, modifier, msg_start, len(result))\n",
      "c:\\Users\\sudet\\anaconda3\\Lib\\site-packages\\sklearn\\metrics\\_classification.py:1469: UndefinedMetricWarning: Precision and F-score are ill-defined and being set to 0.0 in labels with no predicted samples. Use `zero_division` parameter to control this behavior.\n",
      "  _warn_prf(average, modifier, msg_start, len(result))\n",
      "c:\\Users\\sudet\\anaconda3\\Lib\\site-packages\\sklearn\\metrics\\_classification.py:1469: UndefinedMetricWarning: Precision and F-score are ill-defined and being set to 0.0 in labels with no predicted samples. Use `zero_division` parameter to control this behavior.\n",
      "  _warn_prf(average, modifier, msg_start, len(result))\n"
     ]
    },
    {
     "name": "stdout",
     "output_type": "stream",
     "text": [
      "Classification Report:\n",
      "                 precision    recall  f1-score   support\n",
      "\n",
      "      clothing       0.45      0.71      0.56         7\n",
      "          food       0.59      0.88      0.71        34\n",
      "    investment       0.67      0.80      0.73         5\n",
      "        market       0.67      0.33      0.44        12\n",
      "        social       0.00      0.00      0.00        11\n",
      "  subscription       1.00      1.00      1.00        12\n",
      "transportation       0.60      0.30      0.40        10\n",
      "\n",
      "      accuracy                           0.64        91\n",
      "     macro avg       0.57      0.58      0.55        91\n",
      "  weighted avg       0.58      0.64      0.58        91\n",
      "\n",
      "Cross-validation scores: [0.62637363 0.64835165 0.53846154 0.52747253 0.57142857]\n",
      "Mean accuracy: 0.5824175824175823\n"
     ]
    }
   ],
   "source": [
    "import pandas as pd\n",
    "from sklearn.ensemble import RandomForestClassifier\n",
    "from sklearn.model_selection import cross_val_score, train_test_split\n",
    "from sklearn.preprocessing import LabelEncoder, StandardScaler\n",
    "from sklearn.metrics import classification_report\n",
    "\n",
    "# Load your dataset\n",
    "df = pd.read_excel('C:/Users/sudet/Downloads/210/final_dataset.xlsx')\n",
    "df = df[~df['Category'].isin(['education', 'travel cost', 'credit card payment', 'other', 'thrifting', 'make-up', 'skincare'])]\n",
    "df.dropna(inplace=True)  # Drop missing values\n",
    "\n",
    "# Preprocess data\n",
    "le = LabelEncoder()\n",
    "df['Category'] = le.fit_transform(df['Category'])  # Encode Category for prediction\n",
    "category_mapping = dict(zip(le.classes_, le.transform(le.classes_)))  # To decode predictions later\n",
    "\n",
    "df['Amount'] = df['Amount'].abs()  # Absolute value for Amount\n",
    "df['Date'] = pd.to_datetime(df['Date'])  # Ensure Date is datetime\n",
    "df['Time'] = pd.to_datetime(df['Time'], format='%H:%M').dt.hour  # Extract hour from Time\n",
    "df['Emotional State'] = df['Emotional State'].replace(\n",
    "    {'strong positive': 'positive', 'mildly positive': 'positive',\n",
    "     'strong negative': 'negative', 'mildly negative': 'negative'}\n",
    ")\n",
    "df['Emotional State'] = le.fit_transform(df['Emotional State'])  # Encode Emotional State\n",
    "\n",
    "# Separate features and target\n",
    "X = df[['Time', 'Amount', 'Balance', 'Emotional State']]\n",
    "y = df['Category']\n",
    "\n",
    "# Scale the features\n",
    "scaler = StandardScaler()\n",
    "X = scaler.fit_transform(X)\n",
    "\n",
    "# Split into training and testing sets\n",
    "X_train, X_test, y_train, y_test = train_test_split(X, y, test_size=0.2, random_state=42)\n",
    "\n",
    "# Initialize RandomForestClassifier\n",
    "clf = RandomForestClassifier(n_estimators=100, random_state=42)\n",
    "\n",
    "# Train the model\n",
    "clf.fit(X_train, y_train)\n",
    "\n",
    "# Evaluate on test set\n",
    "y_pred = clf.predict(X_test)\n",
    "print(\"Classification Report:\\n\", classification_report(y_test, y_pred, target_names=category_mapping.keys()))\n",
    "\n",
    "# Perform cross-validation\n",
    "cv_scores = cross_val_score(clf, X, y, cv=5, scoring='accuracy')\n",
    "print(\"Cross-validation scores:\", cv_scores)\n",
    "print(\"Mean accuracy:\", cv_scores.mean())\n"
   ]
  }
 ],
 "metadata": {
  "kernelspec": {
   "display_name": "base",
   "language": "python",
   "name": "python3"
  },
  "language_info": {
   "codemirror_mode": {
    "name": "ipython",
    "version": 3
   },
   "file_extension": ".py",
   "mimetype": "text/x-python",
   "name": "python",
   "nbconvert_exporter": "python",
   "pygments_lexer": "ipython3",
   "version": "3.11.5"
  }
 },
 "nbformat": 4,
 "nbformat_minor": 2
}
