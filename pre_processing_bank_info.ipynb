{
 "cells": [
  {
   "cell_type": "markdown",
   "metadata": {},
   "source": [
    "# Bank Transaction Data Formatting\n",
    "\n",
    "This Jupyter Notebook analyzes bank transaction data taken directly from the bank in the from of an Excel file. \n",
    "\n",
    "The data includes information such as date, time, amount, balance, description, and category of transactions. Category column is added later on by me to be labelled out. \n",
    "\n",
    "The data currently includes both payments received and expences, in this project my aim is to analyze expences only so we will format the data to contain expences."
   ]
  },
  {
   "cell_type": "markdown",
   "metadata": {},
   "source": [
    "First, let's open the file and look into the shape of the data."
   ]
  },
  {
   "cell_type": "code",
   "execution_count": 1,
   "metadata": {},
   "outputs": [
    {
     "name": "stdout",
     "output_type": "stream",
     "text": [
      "Column Names: Index(['Date', 'Time', 'Amount', 'Balance', 'Description', 'Category'], dtype='object')\n",
      "         Date   Time   Amount   Balance  \\\n",
      "0  25.10.2024  23:42  -257.99  17224.27   \n",
      "1  25.10.2024  19:47 -1939.95  17482.26   \n",
      "2  25.10.2024  15:29   -70.00  19422.21   \n",
      "3  25.10.2024  12:34   -32.00  19492.21   \n",
      "4  25.10.2024  12:28   -20.00  19524.21   \n",
      "\n",
      "                                   Description  Category  \n",
      "0           046 DOLAP.COM            XXXX 6703  clothing  \n",
      "1        046 IYZICO /ZARA.COM     XXXX 6703 3D  clothing  \n",
      "2           062 PIZZA RESTAURANTLARI XXXX 6703  clothing  \n",
      "3  046 7036 İSTANBUL SABANC TEMASSIZ XXXX 6703      food  \n",
      "4              7777/MBL-HAV.ALİ OSMAN TERLEMEZ    market  \n"
     ]
    }
   ],
   "source": [
    "import pandas as pd\n",
    "\n",
    "# Replace with your local file path\n",
    "path = \"C:/Users/sudet/Downloads/bank_info.xlsx\"\n",
    "\n",
    "# Load the Excel file into a DataFrame\n",
    "df = pd.read_excel(path)\n",
    "\n",
    "# Display the first few rows and column names to understand the structure\n",
    "print(\"Column Names:\", df.columns)\n",
    "print(df.head())\n"
   ]
  },
  {
   "cell_type": "markdown",
   "metadata": {},
   "source": [
    "Filter the data to include only expenses"
   ]
  },
  {
   "cell_type": "code",
   "execution_count": 5,
   "metadata": {},
   "outputs": [
    {
     "name": "stdout",
     "output_type": "stream",
     "text": [
      "         Date   Time   Amount   Balance  \\\n",
      "0  25.10.2024  23:42  -257.99  17224.27   \n",
      "1  25.10.2024  19:47 -1939.95  17482.26   \n",
      "2  25.10.2024  15:29   -70.00  19422.21   \n",
      "3  25.10.2024  12:34   -32.00  19492.21   \n",
      "4  25.10.2024  12:28   -20.00  19524.21   \n",
      "\n",
      "                                   Description  Category  \n",
      "0           046 DOLAP.COM            XXXX 6703  clothing  \n",
      "1        046 IYZICO /ZARA.COM     XXXX 6703 3D  clothing  \n",
      "2           062 PIZZA RESTAURANTLARI XXXX 6703  clothing  \n",
      "3  046 7036 İSTANBUL SABANC TEMASSIZ XXXX 6703      food  \n",
      "4              7777/MBL-HAV.ALİ OSMAN TERLEMEZ    market  \n"
     ]
    }
   ],
   "source": [
    "# Filter the DataFrame to include only rows with negative amounts\n",
    "df_expenses = df[df['Amount'] < 0.00]\n",
    "\n",
    "# Display the first few rows of the filtered DataFrame\n",
    "print(df_expenses.head())"
   ]
  },
  {
   "cell_type": "code",
   "execution_count": 6,
   "metadata": {},
   "outputs": [
    {
     "name": "stdout",
     "output_type": "stream",
     "text": [
      "Expenses data saved to the new Excel file successfully.\n"
     ]
    }
   ],
   "source": [
    "# Define the path for the new Excel file\n",
    "new_path = \"C:/Users/sudet/Downloads/bank_expenses.xlsx\"\n",
    "\n",
    "# Save the df_expenses DataFrame to the new Excel file\n",
    "df_expenses.to_excel(new_path, index=False)\n",
    "\n",
    "print(\"Expenses data saved to the new Excel file successfully.\")"
   ]
  },
  {
   "cell_type": "code",
   "execution_count": 7,
   "metadata": {},
   "outputs": [
    {
     "name": "stdout",
     "output_type": "stream",
     "text": [
      "Column Names: Index(['Date', 'Time', 'Amount', 'Balance', 'Description', 'Category'], dtype='object')\n",
      "         Date   Time   Amount   Balance  \\\n",
      "0  25.10.2024  23:42  -257.99  17224.27   \n",
      "1  25.10.2024  19:47 -1939.95  17482.26   \n",
      "2  25.10.2024  15:29   -70.00  19422.21   \n",
      "3  25.10.2024  12:34   -32.00  19492.21   \n",
      "4  25.10.2024  12:28   -20.00  19524.21   \n",
      "\n",
      "                                   Description  Category  \n",
      "0           046 DOLAP.COM            XXXX 6703       NaN  \n",
      "1        046 IYZICO /ZARA.COM     XXXX 6703 3D       NaN  \n",
      "2           062 PIZZA RESTAURANTLARI XXXX 6703       NaN  \n",
      "3  046 7036 İSTANBUL SABANC TEMASSIZ XXXX 6703       NaN  \n",
      "4              7777/MBL-HAV.ALİ OSMAN TERLEMEZ       NaN  \n"
     ]
    }
   ],
   "source": [
    "# Replace with your local file path\n",
    "path = \"C:/Users/sudet/Downloads/bank_expenses.xlsx\"\n",
    "\n",
    "# Load the Excel file into a DataFrame\n",
    "df = pd.read_excel(path)\n",
    "\n",
    "# Display the first few rows and column names to understand the structure\n",
    "print(\"Column Names:\", df.columns)\n",
    "print(df.head())\n"
   ]
  },
  {
   "cell_type": "markdown",
   "metadata": {},
   "source": [
    "To start the labelling process, find the unique descriptions and assign them a category"
   ]
  },
  {
   "cell_type": "code",
   "execution_count": 8,
   "metadata": {},
   "outputs": [
    {
     "name": "stdout",
     "output_type": "stream",
     "text": [
      "['046 DOLAP.COM            XXXX 6703'\n",
      " '046 IYZICO /ZARA.COM     XXXX 6703 3D'\n",
      " '062 PIZZA RESTAURANTLARI XXXX 6703'\n",
      " '046 7036 İSTANBUL SABANC TEMASSIZ XXXX 6703'\n",
      " '7777/MBL-HAV.ALİ OSMAN TERLEMEZ' '046 STARBUCKS CARD MOBIL XXXX 6703'\n",
      " '7777/MBL-HAV.UMUT KÜÇÜKKAYHAN' '7777/MBL-KREDİ KARTI ÖDEME'\n",
      " '046 PARAM . /GETİR       XXXX 6703'\n",
      " '134 SIMIT SARAYI SABANCI TEMASSIZ XXXX 6703'\n",
      " '046 DOLAP.COM            XXXX 6703 3D'\n",
      " '046 TRENDYOL.COM         XXXX 6703'\n",
      " '7777/MBL-HAV.AKÖDE ELEKTRONİK PARA VE ÖDEME HİZM.A.Ş.'\n",
      " '062 PIZZA RESTAURANTLARI XXXX 6703 3D'\n",
      " '046 YEMEKSEPETİ          XXXX 6703'\n",
      " '046 TRENDYOL.COM         XXXX 6703 3D'\n",
      " '046 SEVDA ÖNCÜ TURGUT    XXXX 6703'\n",
      " '067 GUR-SEL TURIZM       XXXX 6703 3D'\n",
      " '046 7036 İSTANBUL SABANC XXXX 6703'\n",
      " '1045/MBL-İSTANBULKART YÜKLEME-0424153A676880'\n",
      " '046 ITX TURKEY OYSHO AKA XXXX 6703'\n",
      " '046 GRATİS İÇ VE DIŞ TİC TEMASSIZ XXXX 6703'\n",
      " '7777/MBL-HAV.ALİ OSMAN TERLEMEZ-MÜLAKAT HARCAMASI'\n",
      " '7777/MBL-HAV.ARDIL YÜCE' '7777/MBL-VİRMAN 1045-0085930'\n",
      " '205 PAYTR/SONGSANDTHESPI XXXX 6703 3D'\n",
      " '111 SİPAY/SHOPİER        XXXX 6703 3D'\n",
      " '7777/MBL-HAV.ZEYNEP DİLA KUYUCU-PİLAFF' '7777/MBL-VİRMAN 1045-0103409'\n",
      " 'YDS SPOTİFY              XXXX 6703-KMV'\n",
      " 'YDS SPOTİFY              XXXX 6703'\n",
      " '7777/MBL-4330042-ENKA TEKNİK OKULLARI MEZUNLAR DERNEĞİ-SUDE TIRAŞ 2024.2025 YILI AİDATI'\n",
      " 'YDS UBER   *TRIP         XXXX 6703-KMV'\n",
      " 'YDS UBER   *TRIP         XXXX 6703'\n",
      " 'YDS UBER SHOPPER STATEME XXXX 6703-KMV'\n",
      " 'YDS UBER SHOPPER STATEME XXXX 6703'\n",
      " 'YDS UBER   * PENDING     XXXX 6703-KMV'\n",
      " 'YDS UBER   * PENDING     XXXX 6703'\n",
      " 'YDS TEXTILE HOUSE        TEMASSIZ XXXX 6703-KMV'\n",
      " 'YDS TEXTILE HOUSE        TEMASSIZ XXXX 6703'\n",
      " 'YDS BILLA DANKT 0000743  TEMASSIZ XXXX 6703-KMV'\n",
      " 'YDS BILLA DANKT 0000743  TEMASSIZ XXXX 6703'\n",
      " 'YDS LİNDT & SPR\\\\NGLİ     TEMASSIZ XXXX 6703-KMV'\n",
      " 'YDS LİNDT & SPR\\\\NGLİ     TEMASSIZ XXXX 6703'\n",
      " 'YDS CAFE ENGLAENDER      TEMASSIZ XXXX 6703-KMV'\n",
      " 'YDS CAFE ENGLAENDER      TEMASSIZ XXXX 6703'\n",
      " '111 GUR-SEL TUR.TAS.SER  TEMASSIZ XXXX 6703'\n",
      " '046 HOMER KITABEVI LTD.  TEMASSIZ XXXX 6703'\n",
      " '046 PARAM. /GETİR        XXXX 6703' '046 TRENDYOL YEMEK       XXXX 6703'\n",
      " '046 PEGASUS HAVA TASIMAC XXXX 6703 3D'\n",
      " '012 IYZICO /ROSSMANN.COM XXXX 6703 3D'\n",
      " '012 LIDIO  /PENTI        XXXX 6703 3D'\n",
      " '010 MAVI SANDAL BALIKCIS TEMASSIZ XXXX 6703'\n",
      " '7777/MBL-HAV.ZEYNEP DİLA KUYUCU'\n",
      " '1045/BİŞ-SABANCI ÜNİVERSİTESİ-DÖNEMLİK PEŞİN /00032558              /TU22-2303-YAZ22'\n",
      " '1045/BİŞ-SABANCI ÜNİVERSİTESİ-DÖNEMLİK PEŞİN /00032558              /TU22-2303-YAZ11'\n",
      " '067 MODA DA NATA         TEMASSIZ XXXX 6703'\n",
      " '062 FEHU KAHVE           TEMASSIZ XXXX 6703'\n",
      " '046 KOTON MAĞAZACILIK TE TEMASSIZ XXXX 6703'\n",
      " '067 9942- A101 E844  NUZ TEMASSIZ XXXX 6703'\n",
      " '046 PEGASUS HAVA TASIMAC XXXX 6703'\n",
      " '046 DERİMOD DERİ KON.PAZ XXXX 6703 3D'\n",
      " '111 KOPUKLU KAHVE GIDA   TEMASSIZ XXXX 6703'\n",
      " '7777/MBL-HAV.ALİ OSMAN TERLEMEZ-HAV.0312-0156954 ALİ OSMAN TERLEMEZ'\n",
      " '7777/MBL-HAV.DUYGU ŞENTÜRK'\n",
      " '7777/MBL-HAV.ZEYNEP DİLA KUYUCU-KEEP WORKİNG HARD BABYGİRLLL'\n",
      " '046 PARAM. /GAUS TEKSTİL XXXX 6703 3D'\n",
      " '064 HOUSE OF B           TEMASSIZ XXXX 6703'\n",
      " '012 IYZICO /UNİCOURSE.CO XXXX 6703 3D' '7777/MBL-EFT BSMV'\n",
      " '7777/MBL-EFT KOMİSYONU' '7777/MBL-4796147-ÖMER İNCİ-'\n",
      " '046 TRENDYOL MİLLA       XXXX 6703 3D'\n",
      " '7777/MBL-HAV.YASİN MÜMTAZ KAŞKAR-DONUT' '7777/MBL-HAV.MERT TÜYSÜZ'\n",
      " '015 RULO EZBERBOZAN LEZZ TEMASSIZ XXXX 6703'\n",
      " '046 STARBUCKS JUZDAN İLE XXXX 6703 3D'\n",
      " '015 MALAKATECCO İTHALAT  TEMASSIZ XXXX 6703'\n",
      " '010 ISTANBUL ARKEOLOJI M TEMASSIZ XXXX 6703'\n",
      " '7777/MBL-HAV.YASİN MÜMTAZ KAŞKAR'\n",
      " '012 E/MOKA /BERSHKA GIYI XXXX 6703 3D'\n",
      " '015 BITTER BLUE KAHVE    TEMASSIZ XXXX 6703'\n",
      " '046 IYZICO /YVESROCHER.C XXXX 6703'\n",
      " '012 IYZICO /PREV.SHOP    XXXX 6703 3D'\n",
      " 'YDS UBER *TRIP HELP.UBER XXXX 6703-KMV'\n",
      " 'YDS UBER *TRIP HELP.UBER XXXX 6703'\n",
      " '012 PARATI /URBANMADEN.C XXXX 6703 3D'\n",
      " '015 LİDİO/PENTI GIYIM    XXXX 6703 3D'\n",
      " '111 ZEYNEPP ANGEL HOUSE  TEMASSIZ XXXX 6703'\n",
      " '012 TURNEVIP TURIZM ORGA TEMASSIZ XXXX 6703'\n",
      " '134 AYPARA ODEME/BELBİM  XXXX 6703 3D'\n",
      " '046 SEVDA ÖNCÜ TURGUT    TEMASSIZ XXXX 6703'\n",
      " '012 KUMPIR TIME S        TEMASSIZ XXXX 6703'\n",
      " '046 LCWAİKİKİ İST KURTKO TEMASSIZ XXXX 6703'\n",
      " '046 DİRK ROSSMANN MAĞ.Tİ TEMASSIZ XXXX 6703'\n",
      " '046 PENTİ GİYİM TİC.A.Ş. TEMASSIZ XXXX 6703'\n",
      " '046 GRATIS IC VE DIS TIC TEMASSIZ XXXX 6703'\n",
      " '010 ASSAN GIDA ANONIM SI TEMASSIZ XXXX 6703'\n",
      " '010 SOK-SABANCI UNIVERSI TEMASSIZ XXXX 6703'\n",
      " '067 7036 SOK SABANCI UNI TEMASSIZ XXXX 6703'\n",
      " '012 IYZICO /HM.COM       XXXX 6703 3D'\n",
      " '064 WWW.FLORMAR.COM.TR   XXXX 6703 3D'\n",
      " '134 PARAM/GETIR PERAKEND XXXX 6703'\n",
      " '012 SIPAY/TAKSI YONETIM  TEMASSIZ XXXX 6703'\n",
      " '062 KEMAL USTA WAFFLE -S TEMASSIZ XXXX 6703'\n",
      " '059 I PARA/BELBIM        XXXX 6703 3D' '7777/MBL-0478852-BARIŞ TONBİL-'\n",
      " '046 WATSONS-VIAPORT AVM  TEMASSIZ XXXX 6703'\n",
      " '205 SADIK GROUP YATIRIM  TEMASSIZ XXXX 6703'\n",
      " '067 MAVISANDAL           TEMASSIZ XXXX 6703'\n",
      " '7777/MBL-HAV.BAHAR SEVGİN-SUDE TIRAŞ - TANGO AYAKKABI'\n",
      " '064 PACOTTA PASTA KAFE   TEMASSIZ XXXX 6703'\n",
      " '012 IYZICO /GARDROPS.COM XXXX 6703 3D'\n",
      " '7777/MBL-4983173-EGE OKAN ÜNALDI-' '046 HEPSIBURADA D-MARKET XXXX 6703'\n",
      " '7777/MBL-HAV.ZEYNEP ZİLAN TURUNÇ-TAKSİ PARASI'\n",
      " '046 A S WATSON GÜZELLİK  XXXX 6703 3D' '7777/MBL-HAV.MELİSA EREN'\n",
      " '7777/MBL-HAV.SENA DENİZ AVUKAT-TAKSİ PARASI'\n",
      " '7777/MBL-HAV.ARDIL YÜCE-TAKSİ PARASI'\n",
      " '7777/MBL-HAV.MUSTAFA BERKE BÖLÜKKAYA-TAKSİ PARASI'\n",
      " '7777/MBL-HAV.KEREM KARADENİZ-TAKSİ PARASI' '7777/MBL-HAV.SENA KAHYA'\n",
      " '7777/MBL-HAV.BAHAR SEVGİN-SUDE TIRAŞ - SUDANCE TANGO ÖDEMESİ'\n",
      " '046 IYZICO /MATARAMASU.C XXXX 6703 3D'\n",
      " '012 SUBWAY KURTKOY       TEMASSIZ XXXX 6703'\n",
      " '7777/MBL-5843684-ENKA TEKNİK OKULLARI MEZUNLAR DERNEĞİ-SUDE TIRAŞ MEZUNLAR DERNEĞİ AİDATI'\n",
      " '012 SALON YAHYA SAC TASA TEMASSIZ XXXX 6703'\n",
      " '062 SABANCI UNIVERSITESI TEMASSIZ XXXX 6703'\n",
      " '7777/MBL-HAV.BERİNAY ZÜMRA SARIEL'\n",
      " '067 SUFLOR CAFE          TEMASSIZ XXXX 6703'\n",
      " '046 RULO EZBERBOZAN      TEMASSIZ XXXX 6703'\n",
      " '046 H AND M BAĞDAT CADDE TEMASSIZ XXXX 6703'\n",
      " '046 7366 ŞOK İSTANBUL OS TEMASSIZ XXXX 6703'\n",
      " '390/ATM-00000015 P ÇEKME - **** **** **** 6703'\n",
      " '032 SIRIN DANISMANLIK GI TEMASSIZ XXXX 6703'\n",
      " '046 EVE 1346 MUTLUKENT   TEMASSIZ XXXX 6703'\n",
      " '046 MİGROS ALYANS MUTLUK TEMASSIZ XXXX 6703'\n",
      " '046 KOTON MAĞAZACILIK TE XXXX 6703 3D'\n",
      " '012 IYZICO /ALIEXPRESS.C XXXX 6703'\n",
      " '032 CADDE ECZANESI       TEMASSIZ XXXX 6703'\n",
      " '046 LOCO TAQUERIA        TEMASSIZ XXXX 6703'\n",
      " '69/ATM-00000161 P ÇEKME - **** **** **** 6703'\n",
      " '7777/MBL-1340790-UMUT AYDIN-'\n",
      " '062 DOGANLAR TEKSTIL AYA TEMASSIZ XXXX 6703'\n",
      " '062 SONER ORAL           TEMASSIZ XXXX 6703'\n",
      " '010 BURGER KING          TEMASSIZ XXXX 6703'\n",
      " '012 SAKIZ GIYIM          TEMASSIZ XXXX 6703'\n",
      " '067 BIM Q563 KANUNI GEBZ TEMASSIZ XXXX 6703'\n",
      " '064 KENTKART ULASIM BEDE XXXX 6703 3D'\n",
      " '046 IPARA . /BELBİM      XXXX 6703 3D'\n",
      " '015 NOMU PAY/ISTANBULKAR XXXX 6703 3D'\n",
      " '046 GEFI GIDA SAN.TIC.LT TEMASSIZ XXXX 6703'\n",
      " '111 KAHVE DUKKANI        TEMASSIZ XXXX 6703'\n",
      " '010 KOCAELI GEBZE CENTER TEMASSIZ XXXX 6703'\n",
      " '064 PARIBU CINEVERSE     XXXX 6703 3D'\n",
      " '046 LA VİE PRALİNE       TEMASSIZ XXXX 6703'\n",
      " '046 SUREYYAPASA ANADOLU  TEMASSIZ XXXX 6703'\n",
      " '010 SABANCI UNIVERSITESI TEMASSIZ XXXX 6703'\n",
      " '046 SOK 7036 SABANCI UNI TEMASSIZ XXXX 6703'\n",
      " '046 PARAM . /GETIR       XXXX 6703'\n",
      " '046 GRATİS İÇ VE DIŞ TİC XXXX 6703 3D' '7777/MBL-KAM.MUAM.VERGISI'\n",
      " '7777/MBL-DÖVİZ ALIM-MOBİL ŞUBE'\n",
      " '012 BK/IST. SIRKECI      TEMASSIZ XXXX 6703'\n",
      " '064 TUZLA BALIKCISI      TEMASSIZ XXXX 6703'\n",
      " '7777/MBL-HAV.OSMAN BERKE YILDIRIM'\n",
      " '046 LCWAİKİKİ.COM        XXXX 6703 3D'\n",
      " '046 HEPSIPAY HEPSIBURADA XXXX 6703 3D'\n",
      " '7777/MBL-HAV.ZEYNEP DİLA KUYUCU-SADAKA'\n",
      " '015 KOMAGENE             TEMASSIZ XXXX 6703'\n",
      " '046 TRENDYOL YEMEK       XXXX 6703 3D'\n",
      " '111 PROCSIN              XXXX 6703 3D'\n",
      " '064 EKMOT GIDA ANONIM SI TEMASSIZ XXXX 6703'\n",
      " '046 ANADOLU REST SEKERPI TEMASSIZ XXXX 6703'\n",
      " '032 IBOWL RESTORAN LIMIT XXXX 6703'\n",
      " '046 ABDUSSAMET KURUKAHVE TEMASSIZ XXXX 6703'\n",
      " '064 LA LUNE PATISSERIE   TEMASSIZ XXXX 6703'\n",
      " '124 I-PARA/BELBIM        XXXX 6703 3D'\n",
      " '111 HMR RESTORAN GIDA    TEMASSIZ XXXX 6703'\n",
      " '111 Bİİ BURGER           TEMASSIZ XXXX 6703'\n",
      " '046 TTMOBIL TL YUKLEME   XXXX 6703 3D' '7777/MBL-HAV.SİBEL ÇELEN'\n",
      " '067 MUHIKU               XXXX 6703 3D'\n",
      " '7777/MBL-HAV.AHMET BERA EFE-YILBAŞI AĞACI'\n",
      " '11.2022-MKK ÜCRETLERİ-0009356522' '7777/MBL-HAV.TEOMAN ARABUL-HARÇLIK'\n",
      " '010 KADIKOY COFFY        TEMASSIZ XXXX 6703'\n",
      " '010 ISTANBUL RESIM HEYKE TEMASSIZ XXXX 6703'\n",
      " '062 KONUK AGIRLAMA       TEMASSIZ XXXX 6703'\n",
      " '046 EVE 1202 MALTEPE PİA TEMASSIZ XXXX 6703'\n",
      " '046 PIAZZA MALTEPE MACRO TEMASSIZ XXXX 6703'\n",
      " '064 FRINK                XXXX 6703' '7777/MBL-HAV.BAHADIR EMRE KÖKSAL'\n",
      " '015 BELBIM E.PARA VE ODE XXXX 6703 3D' '7777/MBL-HVL BSMV.SALİH KAYA'\n",
      " '7777/MBL-HVL KOM.SALİH KAYA' '7777/MBL-HAV.SALİH KAYA'\n",
      " '010 PIGASTRO             TEMASSIZ XXXX 6703'\n",
      " '064 COSMED PENETRATING   XXXX 6703 3D'\n",
      " '062 BIM K533  VEYSEL KAR TEMASSIZ XXXX 6703']\n"
     ]
    }
   ],
   "source": [
    "unique_descriptions = df['Description'].unique()\n",
    "print(unique_descriptions)"
   ]
  },
  {
   "cell_type": "markdown",
   "metadata": {},
   "source": [
    "Categories consists of:\n",
    "- clothing\n",
    "- thrifting\n",
    "- food\n",
    "- social\n",
    "- education\n",
    "- subscription\n",
    "- transportation\n",
    "- market\n",
    "- skincare\n",
    "- make-up\n",
    "- other"
   ]
  },
  {
   "cell_type": "code",
   "execution_count": 9,
   "metadata": {},
   "outputs": [
    {
     "name": "stdout",
     "output_type": "stream",
     "text": [
      "{'046 DOLAP.COM            XXXX 6703': 'thrifting', '046 IYZICO /ZARA.COM     XXXX 6703 3D': 'clothing', '062 PIZZA RESTAURANTLARI XXXX 6703': 'food', '046 7036 İSTANBUL SABANC TEMASSIZ XXXX 6703': 'market', '7777/MBL-HAV.ALİ OSMAN TERLEMEZ': 'other', '046 STARBUCKS CARD MOBIL XXXX 6703': 'food', '7777/MBL-HAV.UMUT KÜÇÜKKAYHAN': 'other', '7777/MBL-KREDİ KARTI ÖDEME': 'other', '046 PARAM . /GETİR       XXXX 6703': 'food', '134 SIMIT SARAYI SABANCI TEMASSIZ XXXX 6703': 'food', '046 DOLAP.COM            XXXX 6703 3D': 'thrifting', '046 TRENDYOL.COM         XXXX 6703': 'other', '7777/MBL-HAV.AKÖDE ELEKTRONİK PARA VE ÖDEME HİZM.A.Ş.': 'other', '062 PIZZA RESTAURANTLARI XXXX 6703 3D': 'food', '046 YEMEKSEPETİ          XXXX 6703': 'food', '046 TRENDYOL.COM         XXXX 6703 3D': 'other', '046 SEVDA ÖNCÜ TURGUT    XXXX 6703': 'other', '067 GUR-SEL TURIZM       XXXX 6703 3D': 'transportation', '046 7036 İSTANBUL SABANC XXXX 6703': 'market', '1045/MBL-İSTANBULKART YÜKLEME-0424153A676880': 'transportation', '046 ITX TURKEY OYSHO AKA XXXX 6703': 'clothing', '046 GRATİS İÇ VE DIŞ TİC TEMASSIZ XXXX 6703': 'make-up', '7777/MBL-HAV.ALİ OSMAN TERLEMEZ-MÜLAKAT HARCAMASI': 'other', '7777/MBL-HAV.ARDIL YÜCE': 'other', '7777/MBL-VİRMAN 1045-0085930': 'other', '205 PAYTR/SONGSANDTHESPI XXXX 6703 3D': 'clothing', '111 SİPAY/SHOPİER        XXXX 6703 3D': 'clothing', '7777/MBL-HAV.ZEYNEP DİLA KUYUCU-PİLAFF': 'other', '7777/MBL-VİRMAN 1045-0103409': 'other', 'YDS SPOTİFY              XXXX 6703-KMV': 'subscription', 'YDS SPOTİFY              XXXX 6703': 'subscription', '7777/MBL-4330042-ENKA TEKNİK OKULLARI MEZUNLAR DERNEĞİ-SUDE TIRAŞ 2024.2025 YILI AİDATI': 'other', 'YDS UBER   *TRIP         XXXX 6703-KMV': 'transportation', 'YDS UBER   *TRIP         XXXX 6703': 'transportation', 'YDS UBER SHOPPER STATEME XXXX 6703-KMV': 'transportation', 'YDS UBER SHOPPER STATEME XXXX 6703': 'transportation', 'YDS UBER   * PENDING     XXXX 6703-KMV': 'transportation', 'YDS UBER   * PENDING     XXXX 6703': 'transportation', 'YDS TEXTILE HOUSE        TEMASSIZ XXXX 6703-KMV': 'clothing', 'YDS TEXTILE HOUSE        TEMASSIZ XXXX 6703': 'clothing', 'YDS BILLA DANKT 0000743  TEMASSIZ XXXX 6703-KMV': 'market', 'YDS BILLA DANKT 0000743  TEMASSIZ XXXX 6703': 'market', 'YDS LİNDT & SPR\\\\NGLİ     TEMASSIZ XXXX 6703-KMV': 'food', 'YDS LİNDT & SPR\\\\NGLİ     TEMASSIZ XXXX 6703': 'food', 'YDS CAFE ENGLAENDER      TEMASSIZ XXXX 6703-KMV': 'social', 'YDS CAFE ENGLAENDER      TEMASSIZ XXXX 6703': 'social', '111 GUR-SEL TUR.TAS.SER  TEMASSIZ XXXX 6703': 'transportation', '046 HOMER KITABEVI LTD.  TEMASSIZ XXXX 6703': 'education', '046 PARAM. /GETİR        XXXX 6703': 'food', '046 TRENDYOL YEMEK       XXXX 6703': 'food', '046 PEGASUS HAVA TASIMAC XXXX 6703 3D': 'transportation', '012 IYZICO /ROSSMANN.COM XXXX 6703 3D': 'skincare', '012 LIDIO  /PENTI        XXXX 6703 3D': 'clothing', '010 MAVI SANDAL BALIKCIS TEMASSIZ XXXX 6703': 'social', '7777/MBL-HAV.ZEYNEP DİLA KUYUCU': 'other', '1045/BİŞ-SABANCI ÜNİVERSİTESİ-DÖNEMLİK PEŞİN /00032558              /TU22-2303-YAZ22': 'education', '1045/BİŞ-SABANCI ÜNİVERSİTESİ-DÖNEMLİK PEŞİN /00032558              /TU22-2303-YAZ11': 'education', '067 MODA DA NATA         TEMASSIZ XXXX 6703': 'social', '062 FEHU KAHVE           TEMASSIZ XXXX 6703': 'social', '046 KOTON MAĞAZACILIK TE TEMASSIZ XXXX 6703': 'clothing', '067 9942- A101 E844  NUZ TEMASSIZ XXXX 6703': 'market', '046 PEGASUS HAVA TASIMAC XXXX 6703': 'transportation', '046 DERİMOD DERİ KON.PAZ XXXX 6703 3D': 'clothing', '111 KOPUKLU KAHVE GIDA   TEMASSIZ XXXX 6703': 'social', '7777/MBL-HAV.ALİ OSMAN TERLEMEZ-HAV.0312-0156954 ALİ OSMAN TERLEMEZ': 'other', '7777/MBL-HAV.DUYGU ŞENTÜRK': 'other', '7777/MBL-HAV.ZEYNEP DİLA KUYUCU-KEEP WORKİNG HARD BABYGİRLLL': 'other', '046 PARAM. /GAUS TEKSTİL XXXX 6703 3D': 'clothing', '064 HOUSE OF B           TEMASSIZ XXXX 6703': 'social', '012 IYZICO /UNİCOURSE.CO XXXX 6703 3D': 'education', '7777/MBL-EFT BSMV': 'other', '7777/MBL-EFT KOMİSYONU': 'other', '7777/MBL-4796147-ÖMER İNCİ-': 'other', '046 TRENDYOL MİLLA       XXXX 6703 3D': 'clothing', '7777/MBL-HAV.YASİN MÜMTAZ KAŞKAR-DONUT': 'other', '7777/MBL-HAV.MERT TÜYSÜZ': 'other', '015 RULO EZBERBOZAN LEZZ TEMASSIZ XXXX 6703': 'social', '046 STARBUCKS JUZDAN İLE XXXX 6703 3D': 'food', '015 MALAKATECCO İTHALAT  TEMASSIZ XXXX 6703': 'other', '010 ISTANBUL ARKEOLOJI M TEMASSIZ XXXX 6703': 'social', '7777/MBL-HAV.YASİN MÜMTAZ KAŞKAR': 'other', '012 E/MOKA /BERSHKA GIYI XXXX 6703 3D': 'clothing', '015 BITTER BLUE KAHVE    TEMASSIZ XXXX 6703': 'social', '046 IYZICO /YVESROCHER.C XXXX 6703': 'skincare', '012 IYZICO /PREV.SHOP    XXXX 6703 3D': 'clothing', 'YDS UBER *TRIP HELP.UBER XXXX 6703-KMV': 'transportation', 'YDS UBER *TRIP HELP.UBER XXXX 6703': 'transportation', '012 PARATI /URBANMADEN.C XXXX 6703 3D': 'clothing', '015 LİDİO/PENTI GIYIM    XXXX 6703 3D': 'clothing', '111 ZEYNEPP ANGEL HOUSE  TEMASSIZ XXXX 6703': 'other', '012 TURNEVIP TURIZM ORGA TEMASSIZ XXXX 6703': 'transportation', '134 AYPARA ODEME/BELBİM  XXXX 6703 3D': 'transportation', '046 SEVDA ÖNCÜ TURGUT    TEMASSIZ XXXX 6703': 'other', '012 KUMPIR TIME S        TEMASSIZ XXXX 6703': 'food', '046 LCWAİKİKİ İST KURTKO TEMASSIZ XXXX 6703': 'clothing', '046 DİRK ROSSMANN MAĞ.Tİ TEMASSIZ XXXX 6703': 'skincare', '046 PENTİ GİYİM TİC.A.Ş. TEMASSIZ XXXX 6703': 'clothing', '046 GRATIS IC VE DIS TIC TEMASSIZ XXXX 6703': 'make-up', '010 ASSAN GIDA ANONIM SI TEMASSIZ XXXX 6703': 'food', '010 SOK-SABANCI UNIVERSI TEMASSIZ XXXX 6703': 'market', '067 7036 SOK SABANCI UNI TEMASSIZ XXXX 6703': 'market', '012 IYZICO /HM.COM       XXXX 6703 3D': 'clothing', '064 WWW.FLORMAR.COM.TR   XXXX 6703 3D': 'make-up', '134 PARAM/GETIR PERAKEND XXXX 6703': 'food', '012 SIPAY/TAKSI YONETIM  TEMASSIZ XXXX 6703': 'transportation', '062 KEMAL USTA WAFFLE -S TEMASSIZ XXXX 6703': 'social', '059 I PARA/BELBIM        XXXX 6703 3D': 'transportation', '7777/MBL-0478852-BARIŞ TONBİL-': 'other', '046 WATSONS-VIAPORT AVM  TEMASSIZ XXXX 6703': 'skincare', '205 SADIK GROUP YATIRIM  TEMASSIZ XXXX 6703': 'other', '067 MAVISANDAL           TEMASSIZ XXXX 6703': 'social', '7777/MBL-HAV.BAHAR SEVGİN-SUDE TIRAŞ - TANGO AYAKKABI': 'clothing', '064 PACOTTA PASTA KAFE   TEMASSIZ XXXX 6703': 'social', '012 IYZICO /GARDROPS.COM XXXX 6703 3D': 'thrifting', '7777/MBL-4983173-EGE OKAN ÜNALDI-': 'other', '046 HEPSIBURADA D-MARKET XXXX 6703': 'market', '7777/MBL-HAV.ZEYNEP ZİLAN TURUNÇ-TAKSİ PARASI': 'transportation', '046 A S WATSON GÜZELLİK  XXXX 6703 3D': 'skincare', '7777/MBL-HAV.MELİSA EREN': 'other', '7777/MBL-HAV.SENA DENİZ AVUKAT-TAKSİ PARASI': 'transportation', '7777/MBL-HAV.ARDIL YÜCE-TAKSİ PARASI': 'transportation', '7777/MBL-HAV.MUSTAFA BERKE BÖLÜKKAYA-TAKSİ PARASI': 'transportation', '7777/MBL-HAV.KEREM KARADENİZ-TAKSİ PARASI': 'transportation', '7777/MBL-HAV.SENA KAHYA': 'other', '7777/MBL-HAV.BAHAR SEVGİN-SUDE TIRAŞ - SUDANCE TANGO ÖDEMESİ': 'education', '046 IYZICO /MATARAMASU.C XXXX 6703 3D': 'other', '012 SUBWAY KURTKOY       TEMASSIZ XXXX 6703': 'transportation', '7777/MBL-5843684-ENKA TEKNİK OKULLARI MEZUNLAR DERNEĞİ-SUDE TIRAŞ MEZUNLAR DERNEĞİ AİDATI': 'education', '012 SALON YAHYA SAC TASA TEMASSIZ XXXX 6703': 'skincare', '062 SABANCI UNIVERSITESI TEMASSIZ XXXX 6703': 'market', '7777/MBL-HAV.BERİNAY ZÜMRA SARIEL': 'other', '067 SUFLOR CAFE          TEMASSIZ XXXX 6703': 'social', '046 RULO EZBERBOZAN      TEMASSIZ XXXX 6703': 'social', '046 H AND M BAĞDAT CADDE TEMASSIZ XXXX 6703': 'clothing', '046 7366 ŞOK İSTANBUL OS TEMASSIZ XXXX 6703': 'market', '390/ATM-00000015 P ÇEKME - **** **** **** 6703': 'other', '032 SIRIN DANISMANLIK GI TEMASSIZ XXXX 6703': 'other', '046 EVE 1346 MUTLUKENT   TEMASSIZ XXXX 6703': 'make-up', '046 MİGROS ALYANS MUTLUK TEMASSIZ XXXX 6703': 'market', '046 KOTON MAĞAZACILIK TE XXXX 6703 3D': 'clothing', '012 IYZICO /ALIEXPRESS.C XXXX 6703': 'clothing', '032 CADDE ECZANESI       TEMASSIZ XXXX 6703': 'skincare', '046 LOCO TAQUERIA        TEMASSIZ XXXX 6703': 'social', '69/ATM-00000161 P ÇEKME - **** **** **** 6703': 'other', '7777/MBL-1340790-UMUT AYDIN-': 'other', '062 DOGANLAR TEKSTIL AYA TEMASSIZ XXXX 6703': 'other', '062 SONER ORAL           TEMASSIZ XXXX 6703': 'other', '010 BURGER KING          TEMASSIZ XXXX 6703': 'food', '012 SAKIZ GIYIM          TEMASSIZ XXXX 6703': 'clothing', '067 BIM Q563 KANUNI GEBZ TEMASSIZ XXXX 6703': 'market', '064 KENTKART ULASIM BEDE XXXX 6703 3D': 'transportation', '046 IPARA . /BELBİM      XXXX 6703 3D': 'transportation', '015 NOMU PAY/ISTANBULKAR XXXX 6703 3D': 'transportation', '046 GEFI GIDA SAN.TIC.LT TEMASSIZ XXXX 6703': 'other', '111 KAHVE DUKKANI        TEMASSIZ XXXX 6703': 'social', '010 KOCAELI GEBZE CENTER TEMASSIZ XXXX 6703': 'other', '064 PARIBU CINEVERSE     XXXX 6703 3D': 'social', '046 LA VİE PRALİNE       TEMASSIZ XXXX 6703': 'social', '046 SUREYYAPASA ANADOLU  TEMASSIZ XXXX 6703': 'other', '010 SABANCI UNIVERSITESI TEMASSIZ XXXX 6703': 'market', '046 SOK 7036 SABANCI UNI TEMASSIZ XXXX 6703': 'market', '046 PARAM . /GETIR       XXXX 6703': 'food', '046 GRATİS İÇ VE DIŞ TİC XXXX 6703 3D': 'make-up', '7777/MBL-KAM.MUAM.VERGISI': 'other', '7777/MBL-DÖVİZ ALIM-MOBİL ŞUBE': 'other', '012 BK/IST. SIRKECI      TEMASSIZ XXXX 6703': 'transportation', '064 TUZLA BALIKCISI      TEMASSIZ XXXX 6703': 'social', '7777/MBL-HAV.OSMAN BERKE YILDIRIM': 'transportation', '046 LCWAİKİKİ.COM        XXXX 6703 3D': 'clothing', '046 HEPSIPAY HEPSIBURADA XXXX 6703 3D': 'other', '7777/MBL-HAV.ZEYNEP DİLA KUYUCU-SADAKA': 'other', '015 KOMAGENE             TEMASSIZ XXXX 6703': 'food', '046 TRENDYOL YEMEK       XXXX 6703 3D': 'food', '111 PROCSIN              XXXX 6703 3D': 'skincare', '064 EKMOT GIDA ANONIM SI TEMASSIZ XXXX 6703': 'other', '046 ANADOLU REST SEKERPI TEMASSIZ XXXX 6703': 'other', '032 IBOWL RESTORAN LIMIT XXXX 6703': 'social', '046 ABDUSSAMET KURUKAHVE TEMASSIZ XXXX 6703': 'social', '064 LA LUNE PATISSERIE   TEMASSIZ XXXX 6703': 'social', '124 I-PARA/BELBIM        XXXX 6703 3D': 'transportation', '111 HMR RESTORAN GIDA    TEMASSIZ XXXX 6703': 'food', '111 Bİİ BURGER           TEMASSIZ XXXX 6703': 'food', '046 TTMOBIL TL YUKLEME   XXXX 6703 3D': 'transportation', '7777/MBL-HAV.SİBEL ÇELEN': 'other', '067 MUHIKU               XXXX 6703 3D': 'other', '7777/MBL-HAV.AHMET BERA EFE-YILBAŞI AĞACI': 'other', '11.2022-MKK ÜCRETLERİ-0009356522': 'other', '7777/MBL-HAV.TEOMAN ARABUL-HARÇLIK': 'other', '010 KADIKOY COFFY        TEMASSIZ XXXX 6703': 'food', '010 ISTANBUL RESIM HEYKE TEMASSIZ XXXX 6703': 'social', '062 KONUK AGIRLAMA       TEMASSIZ XXXX 6703': 'social', '046 EVE 1202 MALTEPE PİA TEMASSIZ XXXX 6703': 'make-up', '046 PIAZZA MALTEPE MACRO TEMASSIZ XXXX 6703': 'food', '064 FRINK                XXXX 6703': 'food', '7777/MBL-HAV.BAHADIR EMRE KÖKSAL': 'other', '015 BELBIM E.PARA VE ODE XXXX 6703 3D': 'transportation', '7777/MBL-HVL BSMV.SALİH KAYA': 'other', '7777/MBL-HVL KOM.SALİH KAYA': 'other', '7777/MBL-HAV.SALİH KAYA': 'other', '010 PIGASTRO             TEMASSIZ XXXX 6703': 'social', '064 COSMED PENETRATING   XXXX 6703 3D': 'skincare', '062 BIM K533  VEYSEL KAR TEMASSIZ XXXX 6703': 'market'}\n"
     ]
    }
   ],
   "source": [
    "# Create an empty dictionary to store the labels\n",
    "description_labels = {}\n",
    "\n",
    "# Iterate through each unique description and prompt for a labeli\n",
    "for description in unique_descriptions:\n",
    "    label = input(f\"Enter label for '{description}': \")\n",
    "    description_labels[description] = label\n",
    "\n",
    "# Display the dictionary with labels\n",
    "print(description_labels)"
   ]
  },
  {
   "cell_type": "code",
   "execution_count": 10,
   "metadata": {},
   "outputs": [
    {
     "name": "stdout",
     "output_type": "stream",
     "text": [
      "         Date   Time   Amount   Balance  \\\n",
      "0  25.10.2024  23:42  -257.99  17224.27   \n",
      "1  25.10.2024  19:47 -1939.95  17482.26   \n",
      "2  25.10.2024  15:29   -70.00  19422.21   \n",
      "3  25.10.2024  12:34   -32.00  19492.21   \n",
      "4  25.10.2024  12:28   -20.00  19524.21   \n",
      "\n",
      "                                   Description   Category  \n",
      "0           046 DOLAP.COM            XXXX 6703  thrifting  \n",
      "1        046 IYZICO /ZARA.COM     XXXX 6703 3D   clothing  \n",
      "2           062 PIZZA RESTAURANTLARI XXXX 6703       food  \n",
      "3  046 7036 İSTANBUL SABANC TEMASSIZ XXXX 6703     market  \n",
      "4              7777/MBL-HAV.ALİ OSMAN TERLEMEZ      other  \n"
     ]
    }
   ],
   "source": [
    "# Iterate through the df_expenses DataFrame and update the 'Category' column\n",
    "df['Category'] = df['Description'].map(description_labels)\n",
    "\n",
    "# Display the first few rows of the updated DataFrame\n",
    "print(df.head())"
   ]
  },
  {
   "cell_type": "code",
   "execution_count": 11,
   "metadata": {},
   "outputs": [
    {
     "name": "stdout",
     "output_type": "stream",
     "text": [
      "Labels added to the original Excel file successfully.\n"
     ]
    }
   ],
   "source": [
    "# Update the original DataFrame with the labels\n",
    "df['Category'] = df['Description'].map(description_labels)\n",
    "\n",
    "# Save the updated DataFrame back to the Excel file\n",
    "df.to_excel(path, index=False)\n",
    "\n",
    "print(\"Labels added to the original Excel file successfully.\")"
   ]
  },
  {
   "cell_type": "code",
   "execution_count": 12,
   "metadata": {},
   "outputs": [
    {
     "name": "stdout",
     "output_type": "stream",
     "text": [
      "         Date   Time   Amount   Balance  \\\n",
      "0  25.10.2024  23:42  -257.99  17224.27   \n",
      "1  25.10.2024  19:47 -1939.95  17482.26   \n",
      "2  25.10.2024  15:29   -70.00  19422.21   \n",
      "3  25.10.2024  12:34   -32.00  19492.21   \n",
      "4  25.10.2024  12:28   -20.00  19524.21   \n",
      "\n",
      "                                   Description   Category  \n",
      "0           046 DOLAP.COM            XXXX 6703  thrifting  \n",
      "1        046 IYZICO /ZARA.COM     XXXX 6703 3D   clothing  \n",
      "2           062 PIZZA RESTAURANTLARI XXXX 6703       food  \n",
      "3  046 7036 İSTANBUL SABANC TEMASSIZ XXXX 6703     market  \n",
      "4              7777/MBL-HAV.ALİ OSMAN TERLEMEZ      other  \n"
     ]
    }
   ],
   "source": [
    "print(df.head())"
   ]
  }
 ],
 "metadata": {
  "kernelspec": {
   "display_name": "base",
   "language": "python",
   "name": "python3"
  },
  "language_info": {
   "codemirror_mode": {
    "name": "ipython",
    "version": 3
   },
   "file_extension": ".py",
   "mimetype": "text/x-python",
   "name": "python",
   "nbconvert_exporter": "python",
   "pygments_lexer": "ipython3",
   "version": "3.11.5"
  }
 },
 "nbformat": 4,
 "nbformat_minor": 2
}
