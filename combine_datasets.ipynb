{
 "cells": [
  {
   "cell_type": "code",
   "execution_count": 2,
   "metadata": {},
   "outputs": [],
   "source": [
    "import pandas as pd\n",
    "import numpy as np\n",
    "import matplotlib.pyplot as plt\n",
    "import seaborn as sns\n",
    "import pandas as pd"
   ]
  },
  {
   "cell_type": "code",
   "execution_count": 28,
   "metadata": {},
   "outputs": [],
   "source": [
    "# Load the bank transaction history\n",
    "bank_transactions = pd.read_excel('C:/Users/sudet/Documents/GitHub/CS210-Data-Science-Term-Project/bank_expenses.xlsx')\n",
    "\n",
    "# Load the daily emotional log\n",
    "emotional_log = pd.read_excel('C:/Users/sudet/Documents/GitHub/CS210-Data-Science-Term-Project/emotional_state_info.xlsx')"
   ]
  },
  {
   "cell_type": "code",
   "execution_count": 20,
   "metadata": {},
   "outputs": [],
   "source": [
    "# Merge bank_transactions with emotional_log on the Date column\n",
    "final_dataset = pd.merge(bank_transactions, emotional_log, on='Date', how='left')\n",
    "\n",
    "# Save the final dataset to a new Excel file\n",
    "final_dataset.to_excel('final_dataset.xlsx', index=False)"
   ]
  },
  {
   "cell_type": "code",
   "execution_count": 31,
   "metadata": {},
   "outputs": [
    {
     "data": {
      "text/html": [
       "<div>\n",
       "<style scoped>\n",
       "    .dataframe tbody tr th:only-of-type {\n",
       "        vertical-align: middle;\n",
       "    }\n",
       "\n",
       "    .dataframe tbody tr th {\n",
       "        vertical-align: top;\n",
       "    }\n",
       "\n",
       "    .dataframe thead th {\n",
       "        text-align: right;\n",
       "    }\n",
       "</style>\n",
       "<table border=\"1\" class=\"dataframe\">\n",
       "  <thead>\n",
       "    <tr style=\"text-align: right;\">\n",
       "      <th></th>\n",
       "      <th>Date</th>\n",
       "      <th>Time</th>\n",
       "      <th>Amount</th>\n",
       "      <th>Balance</th>\n",
       "      <th>Description</th>\n",
       "      <th>Category</th>\n",
       "      <th>Emotional State</th>\n",
       "    </tr>\n",
       "  </thead>\n",
       "  <tbody>\n",
       "    <tr>\n",
       "      <th>0</th>\n",
       "      <td>25.10.2024</td>\n",
       "      <td>23:42</td>\n",
       "      <td>-257.99</td>\n",
       "      <td>17224.27</td>\n",
       "      <td>046 DOLAP.COM            XXXX 6703</td>\n",
       "      <td>thrifting</td>\n",
       "      <td>strong positive</td>\n",
       "    </tr>\n",
       "    <tr>\n",
       "      <th>1</th>\n",
       "      <td>25.10.2024</td>\n",
       "      <td>19:47</td>\n",
       "      <td>-1939.95</td>\n",
       "      <td>17482.26</td>\n",
       "      <td>046 IYZICO /ZARA.COM     XXXX 6703 3D</td>\n",
       "      <td>clothing</td>\n",
       "      <td>strong positive</td>\n",
       "    </tr>\n",
       "    <tr>\n",
       "      <th>2</th>\n",
       "      <td>25.10.2024</td>\n",
       "      <td>15:29</td>\n",
       "      <td>-70.00</td>\n",
       "      <td>19422.21</td>\n",
       "      <td>062 PIZZA RESTAURANTLARI XXXX 6703</td>\n",
       "      <td>food</td>\n",
       "      <td>strong positive</td>\n",
       "    </tr>\n",
       "    <tr>\n",
       "      <th>3</th>\n",
       "      <td>25.10.2024</td>\n",
       "      <td>12:34</td>\n",
       "      <td>-32.00</td>\n",
       "      <td>19492.21</td>\n",
       "      <td>046 7036 İSTANBUL SABANC TEMASSIZ XXXX 6703</td>\n",
       "      <td>market</td>\n",
       "      <td>strong positive</td>\n",
       "    </tr>\n",
       "    <tr>\n",
       "      <th>4</th>\n",
       "      <td>25.10.2024</td>\n",
       "      <td>12:28</td>\n",
       "      <td>-20.00</td>\n",
       "      <td>19524.21</td>\n",
       "      <td>7777/MBL-HAV.ALİ OSMAN TERLEMEZ</td>\n",
       "      <td>other</td>\n",
       "      <td>strong positive</td>\n",
       "    </tr>\n",
       "  </tbody>\n",
       "</table>\n",
       "</div>"
      ],
      "text/plain": [
       "         Date   Time   Amount   Balance  \\\n",
       "0  25.10.2024  23:42  -257.99  17224.27   \n",
       "1  25.10.2024  19:47 -1939.95  17482.26   \n",
       "2  25.10.2024  15:29   -70.00  19422.21   \n",
       "3  25.10.2024  12:34   -32.00  19492.21   \n",
       "4  25.10.2024  12:28   -20.00  19524.21   \n",
       "\n",
       "                                   Description   Category  Emotional State  \n",
       "0           046 DOLAP.COM            XXXX 6703  thrifting  strong positive  \n",
       "1        046 IYZICO /ZARA.COM     XXXX 6703 3D   clothing  strong positive  \n",
       "2           062 PIZZA RESTAURANTLARI XXXX 6703       food  strong positive  \n",
       "3  046 7036 İSTANBUL SABANC TEMASSIZ XXXX 6703     market  strong positive  \n",
       "4              7777/MBL-HAV.ALİ OSMAN TERLEMEZ      other  strong positive  "
      ]
     },
     "execution_count": 31,
     "metadata": {},
     "output_type": "execute_result"
    }
   ],
   "source": [
    "final_dataset = pd.read_excel('final_dataset.xlsx')\n",
    "final_dataset.head()"
   ]
  },
  {
   "cell_type": "code",
   "execution_count": 3,
   "metadata": {},
   "outputs": [],
   "source": [
    "df = pd.read_excel('C:/Users/sudet/Downloads/210/final_dataset.xlsx')"
   ]
  },
  {
   "cell_type": "code",
   "execution_count": 4,
   "metadata": {},
   "outputs": [
    {
     "name": "stdout",
     "output_type": "stream",
     "text": [
      "Column Names: Index(['Date', 'Time', 'Amount', 'Balance', 'Description', 'Category',\n",
      "       'Emotional State'],\n",
      "      dtype='object')\n",
      "         Date   Time   Amount   Balance  \\\n",
      "0  25.10.2024  23:42  -257.99  17224.27   \n",
      "1  25.10.2024  19:47 -1939.95  17482.26   \n",
      "2  25.10.2024  15:29   -70.00  19422.21   \n",
      "3  25.10.2024  12:34   -32.00  19492.21   \n",
      "4  25.10.2024  12:28   -20.00  19524.21   \n",
      "\n",
      "                                   Description   Category  Emotional State  \n",
      "0           046 DOLAP.COM            XXXX 6703  thrifting  strong positive  \n",
      "1        046 IYZICO /ZARA.COM     XXXX 6703 3D   clothing  strong positive  \n",
      "2           062 PIZZA RESTAURANTLARI XXXX 6703       food  strong positive  \n",
      "3  046 7036 İSTANBUL SABANC TEMASSIZ XXXX 6703     market  strong positive  \n",
      "4              7777/MBL-HAV.ALİ OSMAN TERLEMEZ      other  strong positive  \n"
     ]
    }
   ],
   "source": [
    "print(\"Column Names:\", df.columns)\n",
    "print(df.head())"
   ]
  },
  {
   "cell_type": "code",
   "execution_count": 5,
   "metadata": {},
   "outputs": [
    {
     "data": {
      "text/plain": [
       "(798, 7)"
      ]
     },
     "execution_count": 5,
     "metadata": {},
     "output_type": "execute_result"
    }
   ],
   "source": [
    "df.shape  # Check rows and columns"
   ]
  },
  {
   "cell_type": "code",
   "execution_count": 6,
   "metadata": {},
   "outputs": [
    {
     "name": "stdout",
     "output_type": "stream",
     "text": [
      "<class 'pandas.core.frame.DataFrame'>\n",
      "RangeIndex: 798 entries, 0 to 797\n",
      "Data columns (total 7 columns):\n",
      " #   Column           Non-Null Count  Dtype  \n",
      "---  ------           --------------  -----  \n",
      " 0   Date             798 non-null    object \n",
      " 1   Time             798 non-null    object \n",
      " 2   Amount           798 non-null    float64\n",
      " 3   Balance          798 non-null    float64\n",
      " 4   Description      798 non-null    object \n",
      " 5   Category         798 non-null    object \n",
      " 6   Emotional State  679 non-null    object \n",
      "dtypes: float64(2), object(5)\n",
      "memory usage: 43.8+ KB\n"
     ]
    }
   ],
   "source": [
    "df.info()  # Data types and missing values"
   ]
  },
  {
   "cell_type": "code",
   "execution_count": 7,
   "metadata": {},
   "outputs": [
    {
     "data": {
      "text/html": [
       "<div>\n",
       "<style scoped>\n",
       "    .dataframe tbody tr th:only-of-type {\n",
       "        vertical-align: middle;\n",
       "    }\n",
       "\n",
       "    .dataframe tbody tr th {\n",
       "        vertical-align: top;\n",
       "    }\n",
       "\n",
       "    .dataframe thead th {\n",
       "        text-align: right;\n",
       "    }\n",
       "</style>\n",
       "<table border=\"1\" class=\"dataframe\">\n",
       "  <thead>\n",
       "    <tr style=\"text-align: right;\">\n",
       "      <th></th>\n",
       "      <th>Date</th>\n",
       "      <th>Time</th>\n",
       "      <th>Amount</th>\n",
       "      <th>Balance</th>\n",
       "      <th>Description</th>\n",
       "      <th>Category</th>\n",
       "      <th>Emotional State</th>\n",
       "    </tr>\n",
       "  </thead>\n",
       "  <tbody>\n",
       "    <tr>\n",
       "      <th>count</th>\n",
       "      <td>798</td>\n",
       "      <td>798</td>\n",
       "      <td>798.000000</td>\n",
       "      <td>798.000000</td>\n",
       "      <td>798</td>\n",
       "      <td>798</td>\n",
       "      <td>679</td>\n",
       "    </tr>\n",
       "    <tr>\n",
       "      <th>unique</th>\n",
       "      <td>390</td>\n",
       "      <td>514</td>\n",
       "      <td>NaN</td>\n",
       "      <td>NaN</td>\n",
       "      <td>197</td>\n",
       "      <td>14</td>\n",
       "      <td>7</td>\n",
       "    </tr>\n",
       "    <tr>\n",
       "      <th>top</th>\n",
       "      <td>30.09.2024</td>\n",
       "      <td>10:44</td>\n",
       "      <td>NaN</td>\n",
       "      <td>NaN</td>\n",
       "      <td>062 PIZZA RESTAURANTLARI XXXX 6703</td>\n",
       "      <td>food</td>\n",
       "      <td>neutral</td>\n",
       "    </tr>\n",
       "    <tr>\n",
       "      <th>freq</th>\n",
       "      <td>14</td>\n",
       "      <td>30</td>\n",
       "      <td>NaN</td>\n",
       "      <td>NaN</td>\n",
       "      <td>59</td>\n",
       "      <td>222</td>\n",
       "      <td>159</td>\n",
       "    </tr>\n",
       "    <tr>\n",
       "      <th>mean</th>\n",
       "      <td>NaN</td>\n",
       "      <td>NaN</td>\n",
       "      <td>-506.930113</td>\n",
       "      <td>9965.221065</td>\n",
       "      <td>NaN</td>\n",
       "      <td>NaN</td>\n",
       "      <td>NaN</td>\n",
       "    </tr>\n",
       "    <tr>\n",
       "      <th>std</th>\n",
       "      <td>NaN</td>\n",
       "      <td>NaN</td>\n",
       "      <td>1635.671300</td>\n",
       "      <td>7631.623366</td>\n",
       "      <td>NaN</td>\n",
       "      <td>NaN</td>\n",
       "      <td>NaN</td>\n",
       "    </tr>\n",
       "    <tr>\n",
       "      <th>min</th>\n",
       "      <td>NaN</td>\n",
       "      <td>NaN</td>\n",
       "      <td>-24000.000000</td>\n",
       "      <td>3.110000</td>\n",
       "      <td>NaN</td>\n",
       "      <td>NaN</td>\n",
       "      <td>NaN</td>\n",
       "    </tr>\n",
       "    <tr>\n",
       "      <th>25%</th>\n",
       "      <td>NaN</td>\n",
       "      <td>NaN</td>\n",
       "      <td>-249.750000</td>\n",
       "      <td>4837.732500</td>\n",
       "      <td>NaN</td>\n",
       "      <td>NaN</td>\n",
       "      <td>NaN</td>\n",
       "    </tr>\n",
       "    <tr>\n",
       "      <th>50%</th>\n",
       "      <td>NaN</td>\n",
       "      <td>NaN</td>\n",
       "      <td>-100.000000</td>\n",
       "      <td>7616.830000</td>\n",
       "      <td>NaN</td>\n",
       "      <td>NaN</td>\n",
       "      <td>NaN</td>\n",
       "    </tr>\n",
       "    <tr>\n",
       "      <th>75%</th>\n",
       "      <td>NaN</td>\n",
       "      <td>NaN</td>\n",
       "      <td>-40.125000</td>\n",
       "      <td>13508.330000</td>\n",
       "      <td>NaN</td>\n",
       "      <td>NaN</td>\n",
       "      <td>NaN</td>\n",
       "    </tr>\n",
       "    <tr>\n",
       "      <th>max</th>\n",
       "      <td>NaN</td>\n",
       "      <td>NaN</td>\n",
       "      <td>-0.020000</td>\n",
       "      <td>46335.780000</td>\n",
       "      <td>NaN</td>\n",
       "      <td>NaN</td>\n",
       "      <td>NaN</td>\n",
       "    </tr>\n",
       "  </tbody>\n",
       "</table>\n",
       "</div>"
      ],
      "text/plain": [
       "              Date   Time        Amount       Balance  \\\n",
       "count          798    798    798.000000    798.000000   \n",
       "unique         390    514           NaN           NaN   \n",
       "top     30.09.2024  10:44           NaN           NaN   \n",
       "freq            14     30           NaN           NaN   \n",
       "mean           NaN    NaN   -506.930113   9965.221065   \n",
       "std            NaN    NaN   1635.671300   7631.623366   \n",
       "min            NaN    NaN -24000.000000      3.110000   \n",
       "25%            NaN    NaN   -249.750000   4837.732500   \n",
       "50%            NaN    NaN   -100.000000   7616.830000   \n",
       "75%            NaN    NaN    -40.125000  13508.330000   \n",
       "max            NaN    NaN     -0.020000  46335.780000   \n",
       "\n",
       "                               Description Category Emotional State  \n",
       "count                                  798      798             679  \n",
       "unique                                 197       14               7  \n",
       "top     062 PIZZA RESTAURANTLARI XXXX 6703     food         neutral  \n",
       "freq                                    59      222             159  \n",
       "mean                                   NaN      NaN             NaN  \n",
       "std                                    NaN      NaN             NaN  \n",
       "min                                    NaN      NaN             NaN  \n",
       "25%                                    NaN      NaN             NaN  \n",
       "50%                                    NaN      NaN             NaN  \n",
       "75%                                    NaN      NaN             NaN  \n",
       "max                                    NaN      NaN             NaN  "
      ]
     },
     "execution_count": 7,
     "metadata": {},
     "output_type": "execute_result"
    }
   ],
   "source": [
    "df.describe(include='all')  # Summary statistics"
   ]
  },
  {
   "cell_type": "code",
   "execution_count": 8,
   "metadata": {},
   "outputs": [
    {
     "name": "stdout",
     "output_type": "stream",
     "text": [
      "Missing values per column:\n",
      " Date                 0\n",
      "Time                 0\n",
      "Amount               0\n",
      "Balance              0\n",
      "Description          0\n",
      "Category             0\n",
      "Emotional State    119\n",
      "dtype: int64\n"
     ]
    }
   ],
   "source": [
    "missing_data = df.isnull().sum()\n",
    "print(\"Missing values per column:\\n\", missing_data)"
   ]
  },
  {
   "cell_type": "code",
   "execution_count": 9,
   "metadata": {},
   "outputs": [
    {
     "data": {
      "image/png": "[encoded data removed]",
      "text/plain": [
       "<Figure size 640x480 with 1 Axes>"
      ]
     },
     "metadata": {},
     "output_type": "display_data"
    }
   ],
   "source": [
    "sns.heatmap(df.isnull(), cbar=False, cmap=\"viridis\")\n",
    "plt.title(\"Missing Values Heatmap\")\n",
    "plt.show()"
   ]
  },
  {
   "cell_type": "code",
   "execution_count": 10,
   "metadata": {},
   "outputs": [
    {
     "data": {
      "text/html": [
       "<div>\n",
       "<style scoped>\n",
       "    .dataframe tbody tr th:only-of-type {\n",
       "        vertical-align: middle;\n",
       "    }\n",
       "\n",
       "    .dataframe tbody tr th {\n",
       "        vertical-align: top;\n",
       "    }\n",
       "\n",
       "    .dataframe thead th {\n",
       "        text-align: right;\n",
       "    }\n",
       "</style>\n",
       "<table border=\"1\" class=\"dataframe\">\n",
       "  <thead>\n",
       "    <tr style=\"text-align: right;\">\n",
       "      <th></th>\n",
       "      <th>Date</th>\n",
       "      <th>Time</th>\n",
       "      <th>Amount</th>\n",
       "      <th>Balance</th>\n",
       "      <th>Description</th>\n",
       "      <th>Category</th>\n",
       "      <th>Emotional State</th>\n",
       "    </tr>\n",
       "  </thead>\n",
       "  <tbody>\n",
       "    <tr>\n",
       "      <th>0</th>\n",
       "      <td>2024-10-25</td>\n",
       "      <td>23:42</td>\n",
       "      <td>-257.99</td>\n",
       "      <td>17224.27</td>\n",
       "      <td>046 DOLAP.COM            XXXX 6703</td>\n",
       "      <td>thrifting</td>\n",
       "      <td>strong positive</td>\n",
       "    </tr>\n",
       "    <tr>\n",
       "      <th>1</th>\n",
       "      <td>2024-10-25</td>\n",
       "      <td>19:47</td>\n",
       "      <td>-1939.95</td>\n",
       "      <td>17482.26</td>\n",
       "      <td>046 IYZICO /ZARA.COM     XXXX 6703 3D</td>\n",
       "      <td>clothing</td>\n",
       "      <td>strong positive</td>\n",
       "    </tr>\n",
       "    <tr>\n",
       "      <th>2</th>\n",
       "      <td>2024-10-25</td>\n",
       "      <td>15:29</td>\n",
       "      <td>-70.00</td>\n",
       "      <td>19422.21</td>\n",
       "      <td>062 PIZZA RESTAURANTLARI XXXX 6703</td>\n",
       "      <td>food</td>\n",
       "      <td>strong positive</td>\n",
       "    </tr>\n",
       "    <tr>\n",
       "      <th>3</th>\n",
       "      <td>2024-10-25</td>\n",
       "      <td>12:34</td>\n",
       "      <td>-32.00</td>\n",
       "      <td>19492.21</td>\n",
       "      <td>046 7036 İSTANBUL SABANC TEMASSIZ XXXX 6703</td>\n",
       "      <td>market</td>\n",
       "      <td>strong positive</td>\n",
       "    </tr>\n",
       "    <tr>\n",
       "      <th>4</th>\n",
       "      <td>2024-10-25</td>\n",
       "      <td>12:28</td>\n",
       "      <td>-20.00</td>\n",
       "      <td>19524.21</td>\n",
       "      <td>7777/MBL-HAV.ALİ OSMAN TERLEMEZ</td>\n",
       "      <td>other</td>\n",
       "      <td>strong positive</td>\n",
       "    </tr>\n",
       "  </tbody>\n",
       "</table>\n",
       "</div>"
      ],
      "text/plain": [
       "        Date   Time   Amount   Balance  \\\n",
       "0 2024-10-25  23:42  -257.99  17224.27   \n",
       "1 2024-10-25  19:47 -1939.95  17482.26   \n",
       "2 2024-10-25  15:29   -70.00  19422.21   \n",
       "3 2024-10-25  12:34   -32.00  19492.21   \n",
       "4 2024-10-25  12:28   -20.00  19524.21   \n",
       "\n",
       "                                   Description   Category  Emotional State  \n",
       "0           046 DOLAP.COM            XXXX 6703  thrifting  strong positive  \n",
       "1        046 IYZICO /ZARA.COM     XXXX 6703 3D   clothing  strong positive  \n",
       "2           062 PIZZA RESTAURANTLARI XXXX 6703       food  strong positive  \n",
       "3  046 7036 İSTANBUL SABANC TEMASSIZ XXXX 6703     market  strong positive  \n",
       "4              7777/MBL-HAV.ALİ OSMAN TERLEMEZ      other  strong positive  "
      ]
     },
     "execution_count": 10,
     "metadata": {},
     "output_type": "execute_result"
    }
   ],
   "source": [
    "# Convert the Date column to datetime format\n",
    "df['Date'] = pd.to_datetime(df['Date'], format='%d.%m.%Y')\n",
    "\n",
    "# Filter the dataframe to keep only rows with Date on or after 01.01.2023\n",
    "df = df[df['Date'] >= pd.to_datetime('01.01.2023', format='%d.%m.%Y')]\n",
    "\n",
    "# Display the first few rows of the filtered dataframe\n",
    "df.head()"
   ]
  },
  {
   "cell_type": "code",
   "execution_count": 11,
   "metadata": {},
   "outputs": [
    {
     "data": {
      "image/png": "[encoded data removed]",
      "text/plain": [
       "<Figure size 640x480 with 1 Axes>"
      ]
     },
     "metadata": {},
     "output_type": "display_data"
    }
   ],
   "source": [
    "sns.heatmap(df.isnull(), cbar=False, cmap=\"viridis\")\n",
    "plt.title(\"Missing Values Heatmap\")\n",
    "plt.show()"
   ]
  },
  {
   "cell_type": "code",
   "execution_count": 12,
   "metadata": {},
   "outputs": [
    {
     "name": "stdout",
     "output_type": "stream",
     "text": [
      "Mode of State Value: 0    0.0\n",
      "Name: Encoded Emotional State, dtype: float64\n"
     ]
    }
   ],
   "source": [
    "# Define the mapping for encoding emotional states\n",
    "emotional_state_mapping = {\n",
    "    \"strong negative\": -3,\n",
    "    \"negative\": -2,\n",
    "    \"mildly negative\": -1,\n",
    "    \"neutral\": 0,\n",
    "    \"mildly positive\": 1,\n",
    "    \"positive\": 2,\n",
    "    \"strong positive\": 3 }\n",
    "\n",
    "# Map the 'Emotional State' column to numerical values\n",
    "df['Encoded Emotional State'] = df['Emotional State'].map(emotional_state_mapping)\n",
    "\n",
    "\n",
    "# Calculate the mean of the encoded emotional states\n",
    "mode_emotional_state = df['Encoded Emotional State'].mode()\n",
    "\n",
    "print(\"Mode of State Value:\", mode_emotional_state)"
   ]
  },
  {
   "cell_type": "code",
   "execution_count": 13,
   "metadata": {},
   "outputs": [
    {
     "data": {
      "text/html": [
       "<div>\n",
       "<style scoped>\n",
       "    .dataframe tbody tr th:only-of-type {\n",
       "        vertical-align: middle;\n",
       "    }\n",
       "\n",
       "    .dataframe tbody tr th {\n",
       "        vertical-align: top;\n",
       "    }\n",
       "\n",
       "    .dataframe thead th {\n",
       "        text-align: right;\n",
       "    }\n",
       "</style>\n",
       "<table border=\"1\" class=\"dataframe\">\n",
       "  <thead>\n",
       "    <tr style=\"text-align: right;\">\n",
       "      <th></th>\n",
       "      <th>Date</th>\n",
       "      <th>Time</th>\n",
       "      <th>Amount</th>\n",
       "      <th>Balance</th>\n",
       "      <th>Description</th>\n",
       "      <th>Category</th>\n",
       "      <th>Emotional State</th>\n",
       "      <th>Encoded Emotional State</th>\n",
       "    </tr>\n",
       "  </thead>\n",
       "  <tbody>\n",
       "    <tr>\n",
       "      <th>0</th>\n",
       "      <td>2024-10-25</td>\n",
       "      <td>23:42</td>\n",
       "      <td>-257.99</td>\n",
       "      <td>17224.27</td>\n",
       "      <td>046 DOLAP.COM            XXXX 6703</td>\n",
       "      <td>thrifting</td>\n",
       "      <td>strong positive</td>\n",
       "      <td>3</td>\n",
       "    </tr>\n",
       "    <tr>\n",
       "      <th>1</th>\n",
       "      <td>2024-10-25</td>\n",
       "      <td>19:47</td>\n",
       "      <td>-1939.95</td>\n",
       "      <td>17482.26</td>\n",
       "      <td>046 IYZICO /ZARA.COM     XXXX 6703 3D</td>\n",
       "      <td>clothing</td>\n",
       "      <td>strong positive</td>\n",
       "      <td>3</td>\n",
       "    </tr>\n",
       "    <tr>\n",
       "      <th>2</th>\n",
       "      <td>2024-10-25</td>\n",
       "      <td>15:29</td>\n",
       "      <td>-70.00</td>\n",
       "      <td>19422.21</td>\n",
       "      <td>062 PIZZA RESTAURANTLARI XXXX 6703</td>\n",
       "      <td>food</td>\n",
       "      <td>strong positive</td>\n",
       "      <td>3</td>\n",
       "    </tr>\n",
       "    <tr>\n",
       "      <th>3</th>\n",
       "      <td>2024-10-25</td>\n",
       "      <td>12:34</td>\n",
       "      <td>-32.00</td>\n",
       "      <td>19492.21</td>\n",
       "      <td>046 7036 İSTANBUL SABANC TEMASSIZ XXXX 6703</td>\n",
       "      <td>market</td>\n",
       "      <td>strong positive</td>\n",
       "      <td>3</td>\n",
       "    </tr>\n",
       "    <tr>\n",
       "      <th>4</th>\n",
       "      <td>2024-10-25</td>\n",
       "      <td>12:28</td>\n",
       "      <td>-20.00</td>\n",
       "      <td>19524.21</td>\n",
       "      <td>7777/MBL-HAV.ALİ OSMAN TERLEMEZ</td>\n",
       "      <td>other</td>\n",
       "      <td>strong positive</td>\n",
       "      <td>3</td>\n",
       "    </tr>\n",
       "  </tbody>\n",
       "</table>\n",
       "</div>"
      ],
      "text/plain": [
       "        Date   Time   Amount   Balance  \\\n",
       "0 2024-10-25  23:42  -257.99  17224.27   \n",
       "1 2024-10-25  19:47 -1939.95  17482.26   \n",
       "2 2024-10-25  15:29   -70.00  19422.21   \n",
       "3 2024-10-25  12:34   -32.00  19492.21   \n",
       "4 2024-10-25  12:28   -20.00  19524.21   \n",
       "\n",
       "                                   Description   Category  Emotional State  \\\n",
       "0           046 DOLAP.COM            XXXX 6703  thrifting  strong positive   \n",
       "1        046 IYZICO /ZARA.COM     XXXX 6703 3D   clothing  strong positive   \n",
       "2           062 PIZZA RESTAURANTLARI XXXX 6703       food  strong positive   \n",
       "3  046 7036 İSTANBUL SABANC TEMASSIZ XXXX 6703     market  strong positive   \n",
       "4              7777/MBL-HAV.ALİ OSMAN TERLEMEZ      other  strong positive   \n",
       "\n",
       "   Encoded Emotional State  \n",
       "0                        3  \n",
       "1                        3  \n",
       "2                        3  \n",
       "3                        3  \n",
       "4                        3  "
      ]
     },
     "execution_count": 13,
     "metadata": {},
     "output_type": "execute_result"
    }
   ],
   "source": [
    "# Fill missing values in 'Emotional State' with 'neutral'\n",
    "df['Emotional State'].fillna('neutral', inplace=True)\n",
    "\n",
    "# Map the 'Emotional State' column to numerical values using the emotional_state_mapping\n",
    "df['Encoded Emotional State'] = df['Emotional State'].map(emotional_state_mapping)\n",
    "\n",
    "# Display the first few rows of the updated dataframe\n",
    "df.head()"
   ]
  },
  {
   "cell_type": "code",
   "execution_count": 15,
   "metadata": {},
   "outputs": [
    {
     "data": {
      "image/png": "[encoded data removed]",
      "text/plain": [
       "<Figure size 640x480 with 1 Axes>"
      ]
     },
     "metadata": {},
     "output_type": "display_data"
    }
   ],
   "source": [
    "#check again for missing values\n",
    "sns.heatmap(df.isnull(), cbar=False, cmap=\"viridis\")\n",
    "plt.title(\"Missing Values Heatmap\")\n",
    "plt.show()"
   ]
  }
 ],
 "metadata": {
  "kernelspec": {
   "display_name": "base",
   "language": "python",
   "name": "python3"
  },
  "language_info": {
   "codemirror_mode": {
    "name": "ipython",
    "version": 3
   },
   "file_extension": ".py",
   "mimetype": "text/x-python",
   "name": "python",
   "nbconvert_exporter": "python",
   "pygments_lexer": "ipython3",
   "version": "3.11.5"
  }
 },
 "nbformat": 4,
 "nbformat_minor": 2
}
