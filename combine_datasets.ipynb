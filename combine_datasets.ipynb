{
 "cells": [
  {
   "cell_type": "code",
   "execution_count": 4,
   "metadata": {},
   "outputs": [],
   "source": [
    "import pandas as pd\n",
    "\n",
    "# Load the emotional state dataset\n",
    "emotional_state_df = pd.read_csv(\"C:/Users/sudet/Downloads/Emotional_State_Dataset.csv\", names=['Date', 'Emotional State'])\n",
    "\n",
    "# Save the dataframe to a new excel file\n",
    "emotional_state_df.to_excel('emotional_state.xlsx', index=False)"
   ]
  },
  {
   "cell_type": "code",
   "execution_count": 5,
   "metadata": {},
   "outputs": [
    {
     "data": {
      "text/html": [
       "<a href='emotional_state.xlsx' target='_blank'>emotional_state.xlsx</a><br>"
      ],
      "text/plain": [
       "c:\\Users\\sudet\\Documents\\GitHub\\CS210-Data-Science-Term-Project\\emotional_state.xlsx"
      ]
     },
     "execution_count": 5,
     "metadata": {},
     "output_type": "execute_result"
    }
   ],
   "source": [
    "from IPython.display import FileLink\n",
    "\n",
    "# Provide the link to download the excel file\n",
    "FileLink('emotional_state.xlsx')"
   ]
  },
  {
   "cell_type": "code",
   "execution_count": null,
   "metadata": {},
   "outputs": [],
   "source": [
    "import pandas as pd\n",
    "\n",
    "# Load the bank transaction history\n",
    "bank_transactions = pd.read_excel('C:/Users/sudet/Downloads/bank_info.xlsx')\n",
    "\n",
    "# Load the daily emotional log\n",
    "emotional_log = pd.read_excel('\"C:\\Users\\sudet\\Downloads\\Emotional_State_Dataset.csv\"')\n",
    "\n",
    "# Merge the two dataframes on the date column\n",
    "merged_data = pd.merge(bank_transactions, emotional_log, on='date')\n",
    "\n",
    "# Save the merged data to a new excel file\n",
    "merged_data.to_excel('merged_data.xlsx', index=False)"
   ]
  }
 ],
 "metadata": {
  "kernelspec": {
   "display_name": "base",
   "language": "python",
   "name": "python3"
  },
  "language_info": {
   "codemirror_mode": {
    "name": "ipython",
    "version": 3
   },
   "file_extension": ".py",
   "mimetype": "text/x-python",
   "name": "python",
   "nbconvert_exporter": "python",
   "pygments_lexer": "ipython3",
   "version": "3.11.5"
  }
 },
 "nbformat": 4,
 "nbformat_minor": 2
}
